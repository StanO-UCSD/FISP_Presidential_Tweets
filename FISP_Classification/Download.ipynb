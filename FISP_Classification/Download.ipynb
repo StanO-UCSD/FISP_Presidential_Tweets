{
 "cells": [
  {
   "cell_type": "code",
   "execution_count": 4,
   "metadata": {
    "collapsed": true
   },
   "outputs": [],
   "source": [
    "import sys\n",
    "sys.path.append(\"/usr/local/lib/python2.7/site-packages\")\n",
    "import tweepy\n",
    "import csv\n",
    "import time \n",
    "import os\n",
    "from datetime import datetime\n",
    "import requests\n",
    "import gspread\n",
    "from oauth2client.service_account import ServiceAccountCredentials\n",
    "\n",
    "\n",
    "def authenticate_gspread():\n",
    "    scope = ['https://spreadsheets.google.com/feeds']\n",
    "    credentials = ServiceAccountCredentials.from_json_keyfile_name('FISPPresidentialProject-1e0a0d30cfd1.json', scope)\n",
    "    gc = gspread.authorize(credentials)\n",
    "    return gc"
   ]
  },
  {
   "cell_type": "code",
   "execution_count": 14,
   "metadata": {
    "collapsed": false
   },
   "outputs": [],
   "source": [
    "\n",
    "def download(is_cand):\n",
    "    \n",
    "    if is_cand:\n",
    "        list_spreadsheet_id = '15f13hTa2mYJvyO5qp8m2t-1QkozacKafCNzN7vwpB80'\n",
    "        path = 'candidate_tweets_data/'\n",
    "    else:\n",
    "        list_spreadsheet_id = '1-CXoWSIXDD7Qd56Fll6fhYJdDTf8trWgykMW_BbKR7Q'\n",
    "        path = 'pac_tweets_data/'\n",
    "        \n",
    "    if not os.path.isdir(path):\n",
    "        os.mkdir(path)\n",
    "        \n",
    "    gc = authenticate_gspread()\n",
    "    list_sp = gc.open_by_key(list_spreadsheet_id)\n",
    "\n",
    "    for i in range(len(list_sp.worksheets())):\n",
    "        curr_sheet = list_sp.get_worksheet(i)\n",
    "        title = curr_sheet.title\n",
    "        datas = curr_sheet.get_all_values()\n",
    "        del datas[0]\n",
    "        with open(path+title+'.csv', 'w') as f:\n",
    "            writer = csv.writer(f)\n",
    "            writer.writerows(datas)\n",
    "download(True)\n",
    "download(False)"
   ]
  }
 ],
 "metadata": {
  "kernelspec": {
   "display_name": "Python 2",
   "language": "python",
   "name": "python2"
  },
  "language_info": {
   "codemirror_mode": {
    "name": "ipython",
    "version": 2
   },
   "file_extension": ".py",
   "mimetype": "text/x-python",
   "name": "python",
   "nbconvert_exporter": "python",
   "pygments_lexer": "ipython2",
   "version": "2.7.12"
  }
 },
 "nbformat": 4,
 "nbformat_minor": 1
}
